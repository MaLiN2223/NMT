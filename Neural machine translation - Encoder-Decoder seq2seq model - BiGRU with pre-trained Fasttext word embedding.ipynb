{
 "cells": [
  {
   "cell_type": "markdown",
   "metadata": {},
   "source": [
    "## Tokenizing:"
   ]
  },
  {
   "cell_type": "code",
   "execution_count": 42,
   "metadata": {},
   "outputs": [],
   "source": [
    "from nltk.parse import CoreNLPParser\n",
    "parser = CoreNLPParser('http://localhost:9001')\n",
    "with open(r'H:\\HLT\\zh-Education.tok','w',encoding=\"utf-8\") as cf:\n",
    "    with open(r'G:\\NLP\\zh-Education.txt','r',encoding=\"utf-8\") as f:\n",
    "        for _ , line in enumerate(f):\n",
    "            cf.write((' '.join(list(parser.tokenize(line)))) + '\\n')"
   ]
  },
  {
   "cell_type": "code",
   "execution_count": 46,
   "metadata": {},
   "outputs": [],
   "source": [
    "from nltk.parse import CoreNLPParser\n",
    "parser = CoreNLPParser('http://localhost:9001')\n",
    "with open(r'H:\\HLT\\en-Education.tok','w',encoding=\"utf-8\") as cf:\n",
    "    with open(r'G:\\NLP\\en-Education.txt','r',encoding=\"utf-8\") as f:\n",
    "        for _ , line in enumerate(f):\n",
    "            cf.write((' '.join(list(parser.tokenize(line)))) + '\\n')"
   ]
  },
  {
   "cell_type": "code",
   "execution_count": 1,
   "metadata": {},
   "outputs": [],
   "source": [
    "import unicodedata\n",
    "import re\n",
    "\n",
    "# Preprocessing data\n",
    "def unicodeToAscii(s): \n",
    "    # Turn a Unicode string to plain ASCII\n",
    "    # refer to https://stackoverflow.com/a/518232/2809427\n",
    "    return ''.join( c for c in unicodedata.normalize('NFD', s) if unicodedata.category(c) != 'Mn')\n",
    "\n",
    "def en_normalizeString(s):\n",
    "    # lowercase, trim and remove non-letter characters\n",
    "    s = unicodeToAscii(s.lower().strip())\n",
    "    s = re.sub(r\"[^a-zA-Z0-9,.!?]+\", r\" \", s)\n",
    "    s = s.strip()\n",
    "\n",
    "    # adding a start and an end token to the sentence\n",
    "    # so that the model know when to start and stop predicting.\n",
    "    s = '<start> ' + s + ' <end>'\n",
    "    return s\n",
    "\n",
    "def zh_normalizeString(s):\n",
    "    # lowercase, trim and remove non-letter characters\n",
    "    s = s.lower().strip()\n",
    "    s = re.sub(r\"[^a-zA-Z0-9\\u4e00-\\u9fa5！？，。]+\", r\" \", s)\n",
    "    s = s.strip()\n",
    "\n",
    "    return s"
   ]
  },
  {
   "cell_type": "code",
   "execution_count": 2,
   "metadata": {},
   "outputs": [],
   "source": [
    "import io\n",
    "\n",
    "# Create input/target dataset\n",
    "def create_dataset(path_zh, path_en, num_examples=None):\n",
    "    chinese_sentences = io.open(path_zh, encoding='UTF-8').read().strip().split('\\n')\n",
    "    english_sentences = io.open(path_en, encoding='UTF-8').read().strip().split('\\n')\n",
    "    chinese_sentences = [zh_normalizeString(s) for s in chinese_sentences[:num_examples]]\n",
    "    english_sentences = [en_normalizeString(s) for s in english_sentences[:num_examples]]  \n",
    "    return chinese_sentences, english_sentences"
   ]
  },
  {
   "cell_type": "code",
   "execution_count": 3,
   "metadata": {},
   "outputs": [
    {
     "name": "stderr",
     "output_type": "stream",
     "text": [
      "Using TensorFlow backend.\n"
     ]
    }
   ],
   "source": [
    "import keras.preprocessing.text as T\n",
    "import keras.preprocessing.sequence as S\n",
    "\n",
    "# Tokening\n",
    "def tokenize(lang):\n",
    "    lang_tokenizer = T.Tokenizer(filters='')\n",
    "    lang_tokenizer.fit_on_texts(lang)\n",
    "    tensor = lang_tokenizer.texts_to_sequences(lang)\n",
    "    \n",
    "    return tensor, lang_tokenizer"
   ]
  },
  {
   "cell_type": "code",
   "execution_count": 4,
   "metadata": {},
   "outputs": [],
   "source": [
    "# Transform word to index\n",
    "def load_dataset(path_to_file_zh, path_to_file_en, num_examples=None):\n",
    "    inp_lang, targ_lang  = create_dataset(path_to_file_zh, path_to_file_en, num_examples)\n",
    "    input_tensor, inp_lang_tokenizer = tokenize(inp_lang)\n",
    "    target_tensor, targ_lang_tokenizer = tokenize(targ_lang)\n",
    "\n",
    "    return input_tensor, target_tensor, inp_lang_tokenizer, targ_lang_tokenizer"
   ]
  },
  {
   "cell_type": "code",
   "execution_count": 5,
   "metadata": {},
   "outputs": [],
   "source": [
    "path_to_file_zh = r'H:\\HLT\\zh-Education.tok'\n",
    "path_to_file_en = r'H:\\HLT\\en-Education.tok'\n",
    "\n",
    "# Try experimenting with the size of that dataset\n",
    "num_examples = 450#450000\n",
    "input_tensor, target_tensor, inp_lang, targ_lang = load_dataset(path_to_file_zh, path_to_file_en, num_examples)\n",
    "\n",
    "# Creating a reverse dictionary (index to word)\n",
    "index_word_inp = dict(map(reversed, inp_lang.word_index.items()))\n",
    "index_word_targ = dict(map(reversed, targ_lang.word_index.items()))"
   ]
  },
  {
   "cell_type": "code",
   "execution_count": 6,
   "metadata": {},
   "outputs": [
    {
     "name": "stdout",
     "output_type": "stream",
     "text": [
      "Number of input tokens for encoder/decoder with zero padding: 3166, 2800\n"
     ]
    }
   ],
   "source": [
    "# Input tokens for encoder zero padded\n",
    "num_encoder_tokens = len(inp_lang.word_index) + 1\n",
    "# Input tokens for decoder zero padded\n",
    "num_decoder_tokens = len(targ_lang.word_index) + 1\n",
    "print('Number of input tokens for encoder/decoder with zero padding: {}, {}'.format(num_encoder_tokens, num_decoder_tokens))"
   ]
  },
  {
   "cell_type": "code",
   "execution_count": 7,
   "metadata": {},
   "outputs": [],
   "source": [
    "import numpy as np\n",
    "\n",
    "# Map word to fixed-length dense and continuous-valued vector with pre-trained Fasttext word embedding\n",
    "def word2vec(trained_vector_path):\n",
    "    word2vec_dict = {}\n",
    "\n",
    "    with open(trained_vector_path, 'r', encoding='utf-8') as f:    \n",
    "        for line in (f):\n",
    "            array = line.strip().split(\" \")\n",
    "            word2vec_dict[array[0]] = list(map(float, array[1:])) # {word: vectors}\n",
    "\n",
    "    return word2vec_dict\n",
    "\n",
    "# Generate embedding vectors for <start> and <end> token\n",
    "def initSpecialToken(vector_size, seed):\n",
    "    np.random.seed(seed)\n",
    "    return np.random.rand(vector_size)\n",
    "\n",
    "# Custumize the embedding vectors for the dataset with pre-trained embedding word vectors\n",
    "def get_embedding_matrix(num_tokens, trained_vector_path, vector_size):\n",
    "    trained_word_vec = word2vec(trained_vector_path)\n",
    "    print('number of trained word vector: {}:{}'.format(trained_vector_path, len(trained_word_vec)))\n",
    "\n",
    "    embedding_matrix = np.zeros(num_tokens, vector_size)\n",
    "\n",
    "    for word, idx in word2index.items():\n",
    "        word_vec = trained_word_vec.get(word)\n",
    "        if word_vec is not None:\n",
    "            embedding_matrix[idx] = word_vec\n",
    "    return embedding_matrix"
   ]
  },
  {
   "cell_type": "code",
   "execution_count": null,
   "metadata": {},
   "outputs": [],
   "source": [
    "import gzip\n",
    "import os\n",
    "import tarfile\n",
    "import wget\n",
    "\n",
    "# Download pre-trained Fasttext word embeddin\n",
    "wget.download(\"https://dl.fbaipublicfiles.com/fasttext/vectors-crawl/cc.en.300.vec.gz\",out = r\"G:\\NLP\\fasttext\\cc.en.300.vec.gz\")\n",
    "wget.download(\"https://dl.fbaipublicfiles.com/fasttext/vectors-crawl/cc.zh.300.vec.gz\",out = r\"G:\\NLP\\fasttext\\cc.zh.300.vec.gz\")\n",
    "\n",
    "\n",
    "# Uncompressing download files\n",
    "def un_gz(file_name):\n",
    "    \"\"\"ungz zip file\"\"\"\n",
    "    f_name = file_name.replace(\".gz\", \"\")\n",
    "    g_file = gzip.GzipFile(file_name)\n",
    "    open(f_name, \"w+\").write(g_file.read())\n",
    "    g_file.close()\n",
    "    \n",
    "%cd \"G:\\NLP\\fasttext\\\"\n",
    "un_gz(\"cc.en.300.vec.gz\")\n",
    "un_gz(\"cc.zh.300.vec.gz\")"
   ]
  },
  {
   "cell_type": "code",
   "execution_count": null,
   "metadata": {},
   "outputs": [],
   "source": [
    "import numpy as np\n",
    "\n",
    "vector_size = 300\n",
    "trained_vector_paths = (r'G:\\NLP\\fasttext\\cc.zh.300.vec', r'G:\\NLP\\fasttext\\cc.en.300.vec')\n",
    "\n",
    "# Creating input embedding vectors\n",
    "input_emb_matrix = get_embedding_matrix(trained_vector_paths[0], vector_size, num_encoder_tokens)\n",
    "# Save input embedding vectors\n",
    "np.save(r'H:\\HLT\\Embedding_Matrix\\input_emb_matrix', input_emb_matrix)"
   ]
  },
  {
   "cell_type": "code",
   "execution_count": null,
   "metadata": {},
   "outputs": [],
   "source": [
    "# Creating output embedding vectors and specify the <start>, <end> token\n",
    "output_emb_matrix = get_embedding_matrix(trained_vector_paths[1], vector_size, num_decoder_tokens)\n",
    "start_token_vec = initSpecialToken(vector_size, 0) #'<start>'\n",
    "end_token_vec = initSpecialToken(vector_size, 1) # '<end>'\n",
    "output_emb_matrix[targ_lang.word_index['<start>']] = start_token_vec\n",
    "output_emb_matrix[targ_lang.word_index['<end>']] = end_token_vec\n",
    "# Save output embedding vectors\n",
    "np.save(r'H:\\HLT\\Embedding_Matrix\\output_emb_matrix', output_emb_matrix)"
   ]
  },
  {
   "cell_type": "code",
   "execution_count": 8,
   "metadata": {},
   "outputs": [
    {
     "name": "stdout",
     "output_type": "stream",
     "text": [
      "Embedding-matrix shape: (145824, 300), (210721, 300)\n"
     ]
    }
   ],
   "source": [
    "# Load input/output embedding vectors\n",
    "input_emb_matrix, output_emb_matrix= np.load(r'H:\\HLT\\Embedding_Matrix\\input_emb_matrix.npy'), np.load(r'H:\\HLT\\Embedding_Matrix\\output_emb_matrix.npy')\n",
    "print('Embedding-matrix shape: {}, {}'.format(input_emb_matrix.shape, output_emb_matrix.shape))"
   ]
  },
  {
   "cell_type": "code",
   "execution_count": 9,
   "metadata": {},
   "outputs": [
    {
     "name": "stdout",
     "output_type": "stream",
     "text": [
      "Number of samples for Training/Validation: 360, 90\n"
     ]
    }
   ],
   "source": [
    "from sklearn.model_selection import train_test_split\n",
    "import random\n",
    "\n",
    "# Shuffle the data\n",
    "def shuffle(input_tensor, target_tensor): \n",
    "    dataset = list(zip(input_tensor, target_tensor))\n",
    "    random.shuffle(dataset)\n",
    "    return list(zip(*dataset))[0], list(zip(*dataset))[1]\n",
    "\n",
    "# Train - Test Split\n",
    "input_tensor, target_tensor = shuffle(input_tensor, target_tensor)\n",
    "# Creating training and validation sets using an 80-20 split\n",
    "input_tensor_train, input_tensor_val, target_tensor_train, target_tensor_val = train_test_split(input_tensor, target_tensor, test_size=0.2)\n",
    "\n",
    "# Number of Training/validation samples\n",
    "train_samples = len(input_tensor_train)\n",
    "val_samples = len(input_tensor_val)\n",
    "print('Number of samples for Training/Validation: {}, {}'.format(train_samples, val_samples))"
   ]
  },
  {
   "cell_type": "code",
   "execution_count": 10,
   "metadata": {},
   "outputs": [
    {
     "name": "stdout",
     "output_type": "stream",
     "text": [
      "Max length of input/target sentences: 49, 47\n"
     ]
    }
   ],
   "source": [
    "# Max length of input/target sentences\n",
    "max_length_inp = max([len(sent) for sent in input_tensor])# 264 for whole dataset\n",
    "max_length_targ = max([len(sent[:-1]) for sent in target_tensor])# 239 for whole dataset\n",
    "print('Max length of input/target sentences: {}, {}'.format(max_length_inp, max_length_targ))"
   ]
  },
  {
   "cell_type": "code",
   "execution_count": 11,
   "metadata": {},
   "outputs": [],
   "source": [
    "from keras.utils import to_categorical\n",
    "import numpy as np\n",
    "\n",
    "# Creat a batch generator\n",
    "def generate_batch(input_tensor, target_tensor, batch_size = 128):\n",
    "    #zero padding all sequences\n",
    "    encoder_input_tensor = S.pad_sequences(input_tensor,padding='post', maxlen = max_length_inp)\n",
    "    # decoder input sequence does not include the <end> token\n",
    "    decoder_input_tensor = S.pad_sequences([s[:-1] for s in target_tensor],padding='post', maxlen = max_length_targ)\n",
    "    # decoder target sequence (one hot encoded) does not include the <START> token, Offset by one timestep\n",
    "    decoder_target_tensor = np.array([to_categorical(t,len(targ_lang.word_index) + 1) for t in S.pad_sequences([s[1:] for s in target_tensor],padding='post', maxlen = max_length_targ)])\n",
    "\n",
    "    # Generate a batch of data\n",
    "    while True:\n",
    "        for i in range(0, len(input_tensor), batch_size):\n",
    "            encoder_input_batch = encoder_input_tensor[i:i + batch_size]\n",
    "            decoder_input_batch = decoder_input_tensor[i:i + batch_size]\n",
    "            decoder_target_batch = decoder_target_tensor[i:i + batch_size]\n",
    "            yield([encoder_input_batch, decoder_input_batch], decoder_target_batch)"
   ]
  },
  {
   "cell_type": "code",
   "execution_count": 12,
   "metadata": {},
   "outputs": [],
   "source": [
    "from keras.models import Model\n",
    "from keras.layers import Input, Embedding, GRU, Dense, Concatenate, TimeDistributed, Bidirectional, Dropout\n",
    "\n",
    "latent_dim = 300\n",
    "# Set up the encoder\n",
    "encoder_inputs = Input(shape=(None,))\n",
    "enc_emb =  Embedding(num_encoder_tokens, latent_dim, weights = [input_emb_matrix[:num_encoder_tokens]], trainable = False)(encoder_inputs)\n",
    "enc_emb = Dropout(0.1)(enc_emb)\n",
    "encoder_gru = Bidirectional(GRU(latent_dim, return_state=True))\n",
    "encoder_outputs, encoder_fwd_states, encoder_back_states = encoder_gru (enc_emb)\n",
    "encoder_states = Concatenate(axis=-1)([encoder_fwd_states, encoder_back_states])"
   ]
  },
  {
   "cell_type": "code",
   "execution_count": 13,
   "metadata": {},
   "outputs": [],
   "source": [
    "# Set up the decoder, using `encoder_states` as initial state.\n",
    "decoder_inputs = Input(shape=(None,))\n",
    "# Embedding with with pre-trained embedding word vectors\n",
    "dec_emb_layer =  Embedding(num_decoder_tokens, latent_dim, weights = [output_emb_matrix[:num_decoder_tokens]], trainable = False)\n",
    "dec_emb = dec_emb_layer(decoder_inputs)\n",
    "dec_emb = Dropout(0.1)(dec_emb)\n",
    "# We set up our decoder to return full output sequences, and to return internal states as well. We don't use the return states in the training model, but we will use them in inference.\n",
    "decoder_gru = GRU(latent_dim*2, return_sequences=True, return_state=True)\n",
    "decoder_outputs, decoder_states = decoder_gru(dec_emb, initial_state=encoder_states)\n",
    "decoder_dense = Dense(num_decoder_tokens, activation='softmax')\n",
    "decoder_outputs = decoder_dense(decoder_outputs)"
   ]
  },
  {
   "cell_type": "code",
   "execution_count": 14,
   "metadata": {},
   "outputs": [
    {
     "name": "stdout",
     "output_type": "stream",
     "text": [
      "__________________________________________________________________________________________________\n",
      "Layer (type)                    Output Shape         Param #     Connected to                     \n",
      "==================================================================================================\n",
      "input_1 (InputLayer)            (None, None)         0                                            \n",
      "__________________________________________________________________________________________________\n",
      "embedding_1 (Embedding)         (None, None, 300)    949800      input_1[0][0]                    \n",
      "__________________________________________________________________________________________________\n",
      "input_2 (InputLayer)            (None, None)         0                                            \n",
      "__________________________________________________________________________________________________\n",
      "dropout_1 (Dropout)             (None, None, 300)    0           embedding_1[0][0]                \n",
      "__________________________________________________________________________________________________\n",
      "embedding_2 (Embedding)         (None, None, 300)    840000      input_2[0][0]                    \n",
      "__________________________________________________________________________________________________\n",
      "bidirectional_1 (Bidirectional) [(None, 600), (None, 1081800     dropout_1[0][0]                  \n",
      "__________________________________________________________________________________________________\n",
      "dropout_2 (Dropout)             (None, None, 300)    0           embedding_2[0][0]                \n",
      "__________________________________________________________________________________________________\n",
      "concatenate_1 (Concatenate)     (None, 600)          0           bidirectional_1[0][1]            \n",
      "                                                                 bidirectional_1[0][2]            \n",
      "__________________________________________________________________________________________________\n",
      "gru_2 (GRU)                     [(None, None, 600),  1621800     dropout_2[0][0]                  \n",
      "                                                                 concatenate_1[0][0]              \n",
      "__________________________________________________________________________________________________\n",
      "dense_1 (Dense)                 (None, None, 2800)   1682800     gru_2[0][0]                      \n",
      "==================================================================================================\n",
      "Total params: 6,176,200\n",
      "Trainable params: 4,386,400\n",
      "Non-trainable params: 1,789,800\n",
      "__________________________________________________________________________________________________\n"
     ]
    }
   ],
   "source": [
    "# Define the model that takes encoder and decoder input to output decoder_outputs\n",
    "model = Model([encoder_inputs, decoder_inputs], decoder_outputs)\n",
    "model.compile(optimizer='adam', loss='categorical_crossentropy', metrics=['acc'])\n",
    "model.summary()"
   ]
  },
  {
   "cell_type": "code",
   "execution_count": 15,
   "metadata": {},
   "outputs": [
    {
     "name": "stderr",
     "output_type": "stream",
     "text": [
      "'apt' 不是内部或外部命令，也不是可运行的程序\n",
      "或批处理文件。\n"
     ]
    },
    {
     "name": "stdout",
     "output_type": "stream",
     "text": [
      "Requirement already satisfied: pydot in h:\\anaconda3\\lib\\site-packages (1.2.4)\n",
      "Requirement already satisfied: pydot-ng in h:\\anaconda3\\lib\\site-packages (2.0.0)\n",
      "Requirement already satisfied: pyparsing>=2.1.4 in h:\\anaconda3\\lib\\site-packages (from pydot) (2.4.7)\n"
     ]
    }
   ],
   "source": [
    "!apt install graphviz\n",
    "!pip install pydot pydot-ng"
   ]
  },
  {
   "cell_type": "code",
   "execution_count": 16,
   "metadata": {},
   "outputs": [
    {
     "data": {
      "image/png": "[encoded data removed]",
      "text/plain": [
       "<IPython.core.display.Image object>"
      ]
     },
     "execution_count": 16,
     "metadata": {
      "image/png": {
       "height": 368,
       "width": 613
      }
     },
     "output_type": "execute_result"
    }
   ],
   "source": [
    "from keras.utils import plot_model\n",
    "from IPython.display import Image\n",
    "\n",
    "plot_model(model, show_shapes=True, show_layer_names=True, to_file='model.png')\n",
    "Image(retina=True, filename='model.png')"
   ]
  },
  {
   "cell_type": "code",
   "execution_count": 17,
   "metadata": {
    "scrolled": false
   },
   "outputs": [
    {
     "name": "stdout",
     "output_type": "stream",
     "text": [
      "Epoch 1/50\n",
      "18/18 [==============================] - 31s 2s/step - loss: 4.2849 - acc: 0.4756 - val_loss: 3.5033 - val_acc: 0.4992\n",
      "Epoch 2/50\n",
      "18/18 [==============================] - 25s 1s/step - loss: 3.1856 - acc: 0.5323 - val_loss: 3.5558 - val_acc: 0.5182\n",
      "Epoch 3/50\n",
      "18/18 [==============================] - 25s 1s/step - loss: 3.0315 - acc: 0.5423 - val_loss: 3.3703 - val_acc: 0.5441\n",
      "Epoch 4/50\n",
      "18/18 [==============================] - 25s 1s/step - loss: 2.9474 - acc: 0.5466 - val_loss: 3.5129 - val_acc: 0.5365\n",
      "Epoch 5/50\n",
      "18/18 [==============================] - 25s 1s/step - loss: 2.8619 - acc: 0.5511 - val_loss: 3.5346 - val_acc: 0.5419\n",
      "Epoch 6/50\n",
      "18/18 [==============================] - 28s 2s/step - loss: 2.7676 - acc: 0.5530 - val_loss: 3.5502 - val_acc: 0.5441\n",
      "Epoch 7/50\n",
      "18/18 [==============================] - 26s 1s/step - loss: 2.6920 - acc: 0.5550 - val_loss: 3.7506 - val_acc: 0.5234\n",
      "Epoch 8/50\n",
      "18/18 [==============================] - 25s 1s/step - loss: 2.6154 - acc: 0.5551 - val_loss: 3.5425 - val_acc: 0.5547\n",
      "Epoch 9/50\n",
      "18/18 [==============================] - 25s 1s/step - loss: 2.5344 - acc: 0.5578 - val_loss: 3.7089 - val_acc: 0.5377\n",
      "Epoch 10/50\n",
      "18/18 [==============================] - 25s 1s/step - loss: 2.4522 - acc: 0.5613 - val_loss: 3.7550 - val_acc: 0.5383\n",
      "Epoch 11/50\n",
      "18/18 [==============================] - 25s 1s/step - loss: 2.3787 - acc: 0.5632 - val_loss: 3.7275 - val_acc: 0.5431\n",
      "Epoch 12/50\n",
      "18/18 [==============================] - 25s 1s/step - loss: 2.3427 - acc: 0.5659 - val_loss: 3.9039 - val_acc: 0.5246\n",
      "Epoch 13/50\n",
      "18/18 [==============================] - 25s 1s/step - loss: 2.2399 - acc: 0.5662 - val_loss: 3.6833 - val_acc: 0.5532\n",
      "Epoch 14/50\n",
      "18/18 [==============================] - 25s 1s/step - loss: 2.1257 - acc: 0.5725 - val_loss: 3.8734 - val_acc: 0.5395\n",
      "Epoch 15/50\n",
      "18/18 [==============================] - 25s 1s/step - loss: 2.0190 - acc: 0.5816 - val_loss: 3.9261 - val_acc: 0.5398\n",
      "Epoch 16/50\n",
      "18/18 [==============================] - 25s 1s/step - loss: 1.9197 - acc: 0.5981 - val_loss: 3.8836 - val_acc: 0.5447\n",
      "Epoch 17/50\n",
      "18/18 [==============================] - 26s 1s/step - loss: 1.7875 - acc: 0.6195 - val_loss: 4.1117 - val_acc: 0.5283\n",
      "Epoch 18/50\n",
      "18/18 [==============================] - 25s 1s/step - loss: 1.6618 - acc: 0.6427 - val_loss: 3.8552 - val_acc: 0.5565\n",
      "Epoch 19/50\n",
      "18/18 [==============================] - 26s 1s/step - loss: 1.5380 - acc: 0.6689 - val_loss: 4.0249 - val_acc: 0.5435\n",
      "Epoch 20/50\n",
      "18/18 [==============================] - 25s 1s/step - loss: 1.4223 - acc: 0.6941 - val_loss: 4.0713 - val_acc: 0.5395\n",
      "Epoch 21/50\n",
      "18/18 [==============================] - 25s 1s/step - loss: 1.3106 - acc: 0.7174 - val_loss: 4.0494 - val_acc: 0.5452\n",
      "Epoch 22/50\n",
      "18/18 [==============================] - 25s 1s/step - loss: 1.2169 - acc: 0.7379 - val_loss: 4.2819 - val_acc: 0.5264\n",
      "Epoch 23/50\n",
      "18/18 [==============================] - 25s 1s/step - loss: 1.1337 - acc: 0.7580 - val_loss: 4.0061 - val_acc: 0.5514\n",
      "Epoch 24/50\n",
      "18/18 [==============================] - 25s 1s/step - loss: 1.0474 - acc: 0.7767 - val_loss: 4.1791 - val_acc: 0.5447\n",
      "Epoch 25/50\n",
      "18/18 [==============================] - 25s 1s/step - loss: 0.9572 - acc: 0.7986 - val_loss: 4.2250 - val_acc: 0.5386\n",
      "Epoch 26/50\n",
      "18/18 [==============================] - 25s 1s/step - loss: 0.8867 - acc: 0.8118 - val_loss: 4.1706 - val_acc: 0.5402\n",
      "Epoch 27/50\n",
      "18/18 [==============================] - 25s 1s/step - loss: 0.8065 - acc: 0.8332 - val_loss: 4.3650 - val_acc: 0.5228\n",
      "Epoch 28/50\n",
      "18/18 [==============================] - 26s 1s/step - loss: 0.7266 - acc: 0.8514 - val_loss: 4.0934 - val_acc: 0.5483\n",
      "Epoch 29/50\n",
      "18/18 [==============================] - 26s 1s/step - loss: 0.6504 - acc: 0.8727 - val_loss: 4.2876 - val_acc: 0.5386\n",
      "Epoch 30/50\n",
      "18/18 [==============================] - 25s 1s/step - loss: 0.5803 - acc: 0.8905 - val_loss: 4.3210 - val_acc: 0.5377\n",
      "Epoch 31/50\n",
      "18/18 [==============================] - 25s 1s/step - loss: 0.5092 - acc: 0.9089 - val_loss: 4.2820 - val_acc: 0.5418\n",
      "Epoch 32/50\n",
      "18/18 [==============================] - 25s 1s/step - loss: 0.4404 - acc: 0.9296 - val_loss: 4.5236 - val_acc: 0.5277\n",
      "Epoch 33/50\n",
      "18/18 [==============================] - 26s 1s/step - loss: 0.3714 - acc: 0.9480 - val_loss: 4.2390 - val_acc: 0.5477\n",
      "Epoch 34/50\n",
      "18/18 [==============================] - 25s 1s/step - loss: 0.3152 - acc: 0.9618 - val_loss: 4.3881 - val_acc: 0.5407\n",
      "Epoch 35/50\n",
      "18/18 [==============================] - 25s 1s/step - loss: 0.2656 - acc: 0.9725 - val_loss: 4.4426 - val_acc: 0.5386\n",
      "Epoch 36/50\n",
      "18/18 [==============================] - 26s 1s/step - loss: 0.2247 - acc: 0.9793 - val_loss: 4.4032 - val_acc: 0.5436\n",
      "Epoch 37/50\n",
      "18/18 [==============================] - 26s 1s/step - loss: 0.1912 - acc: 0.9855 - val_loss: 4.6525 - val_acc: 0.5258\n",
      "Epoch 38/50\n",
      "18/18 [==============================] - 25s 1s/step - loss: 0.1630 - acc: 0.9899 - val_loss: 4.3634 - val_acc: 0.5514\n",
      "Epoch 39/50\n",
      "18/18 [==============================] - 25s 1s/step - loss: 0.1396 - acc: 0.9924 - val_loss: 4.5243 - val_acc: 0.5404\n",
      "Epoch 40/50\n",
      "18/18 [==============================] - 25s 1s/step - loss: 0.1215 - acc: 0.9942 - val_loss: 4.5583 - val_acc: 0.5404\n",
      "Epoch 41/50\n",
      "18/18 [==============================] - 25s 1s/step - loss: 0.1058 - acc: 0.9957 - val_loss: 4.5077 - val_acc: 0.5428\n",
      "Epoch 42/50\n",
      "18/18 [==============================] - 25s 1s/step - loss: 0.0930 - acc: 0.9964 - val_loss: 4.7539 - val_acc: 0.5240\n",
      "Epoch 43/50\n",
      "18/18 [==============================] - 26s 1s/step - loss: 0.0826 - acc: 0.9973 - val_loss: 4.4608 - val_acc: 0.5459\n",
      "Epoch 44/50\n",
      "18/18 [==============================] - 25s 1s/step - loss: 0.0734 - acc: 0.9980 - val_loss: 4.6181 - val_acc: 0.5422\n",
      "Epoch 45/50\n",
      "18/18 [==============================] - 25s 1s/step - loss: 0.0661 - acc: 0.9985 - val_loss: 4.6524 - val_acc: 0.5398\n",
      "Epoch 46/50\n",
      "18/18 [==============================] - 25s 1s/step - loss: 0.0596 - acc: 0.9987 - val_loss: 4.5963 - val_acc: 0.5428\n",
      "Epoch 47/50\n",
      "18/18 [==============================] - 27s 1s/step - loss: 0.0537 - acc: 0.9989 - val_loss: 4.8424 - val_acc: 0.5243\n",
      "Epoch 48/50\n",
      "18/18 [==============================] - 26s 1s/step - loss: 0.0489 - acc: 0.9990 - val_loss: 4.5442 - val_acc: 0.5438\n",
      "Epoch 49/50\n",
      "18/18 [==============================] - 26s 1s/step - loss: 0.0445 - acc: 0.9991 - val_loss: 4.6907 - val_acc: 0.5398\n",
      "Epoch 50/50\n",
      "18/18 [==============================] - 26s 1s/step - loss: 0.0408 - acc: 0.9993 - val_loss: 4.7178 - val_acc: 0.5416\n"
     ]
    }
   ],
   "source": [
    "# Start training\n",
    "batch_size = 20#128\n",
    "epochs = 50#100\n",
    "history = model.fit_generator(generator = generate_batch(input_tensor_train, target_tensor_train, batch_size = batch_size),\n",
    "                    steps_per_epoch = train_samples//batch_size,\n",
    "                    epochs=epochs,\n",
    "                    validation_data = generate_batch(input_tensor_val, target_tensor_val, batch_size = batch_size),\n",
    "                    validation_steps = val_samples//batch_size)"
   ]
  },
  {
   "cell_type": "code",
   "execution_count": 18,
   "metadata": {},
   "outputs": [
    {
     "name": "stderr",
     "output_type": "stream",
     "text": [
      "H:\\Anaconda3\\lib\\site-packages\\matplotlib\\cbook\\__init__.py:424: MatplotlibDeprecationWarning: \n",
      "Passing one of 'on', 'true', 'off', 'false' as a boolean is deprecated; use an actual boolean (True/False) instead.\n",
      "  warn_deprecated(\"2.2\", \"Passing one of 'on', 'true', 'off', 'false' as a \"\n"
     ]
    },
    {
     "data": {
      "image/png": "[encoded data removed]",
      "text/plain": [
       "<Figure size 432x288 with 1 Axes>"
      ]
     },
     "metadata": {
      "needs_background": "light"
     },
     "output_type": "display_data"
    },
    {
     "data": {
      "image/png": "[encoded data removed]",
      "text/plain": [
       "<Figure size 432x288 with 1 Axes>"
      ]
     },
     "metadata": {
      "needs_background": "light"
     },
     "output_type": "display_data"
    }
   ],
   "source": [
    "history_dict = history.history\n",
    "loss_values = history_dict['loss']\n",
    "val_loss_values = history_dict['val_loss']\n",
    "acc_values = history_dict['acc']\n",
    "val_acc_values = history_dict['val_acc']\n",
    "epochs = range(1, len(val_loss_values) + 1)\n",
    "import matplotlib.pyplot as plt\n",
    "%matplotlib inline \n",
    "\n",
    "plt.subplot(211)\n",
    "plt.plot(epochs, history.history['loss'], 'r', label='Training loss')\n",
    "plt.plot(epochs, val_loss_values, 'b', label='Test loss')\n",
    "plt.title('Training and test loss')\n",
    "plt.xlabel('Epochs')\n",
    "plt.ylabel('Loss')\n",
    "plt.legend()\n",
    "plt.grid('off')\n",
    "plt.show()\n",
    "\n",
    "plt.subplot(212)\n",
    "plt.plot(epochs, history.history['acc'], 'r', label='Training accuracy')\n",
    "plt.plot(epochs, val_acc_values, 'b', label='Test accuracy')\n",
    "plt.title('Training and test accuracy')\n",
    "plt.xlabel('Epochs')\n",
    "plt.ylabel('Accuracy')\n",
    "plt.gca().set_yticklabels(['{:.0f}%'.format(x*100) for x in plt.gca().get_yticks()]) \n",
    "plt.legend()\n",
    "plt.grid('off')\n",
    "plt.show()"
   ]
  },
  {
   "cell_type": "code",
   "execution_count": 19,
   "metadata": {},
   "outputs": [],
   "source": [
    "# Save weights\n",
    "model.save_weights('nmt_bigru_embedding_weights_100epochs.h5')"
   ]
  },
  {
   "cell_type": "code",
   "execution_count": 20,
   "metadata": {},
   "outputs": [],
   "source": [
    "# Load weights\n",
    "model.load_weights('nmt_bigru_embedding_weights_100epochs.h5')"
   ]
  },
  {
   "cell_type": "code",
   "execution_count": 21,
   "metadata": {},
   "outputs": [],
   "source": [
    "# Encode the input sequence to get the \"Context vectors\"\n",
    "encoder_model = Model(encoder_inputs, encoder_states)\n",
    "# Decoder setup\n",
    "decoder_state_input = Input(shape=(latent_dim*2,))\n",
    "# Get the embeddings of the decoder sequence\n",
    "dec_emb2= dec_emb_layer(decoder_inputs)\n",
    "# To predict the next word in the sequence, set the initial states to the states from the previous time step\n",
    "decoder_outputs2, decoder_states2 = decoder_gru(dec_emb2, initial_state=decoder_state_input)\n",
    "# A dense softmax layer to generate prob dist. over the target vocabulary\n",
    "decoder_outputs2 = decoder_dense(decoder_outputs2)\n",
    "# Final decoder model\n",
    "decoder_model = Model(\n",
    "     [decoder_inputs] + [decoder_state_input],\n",
    "     [decoder_outputs2] + [decoder_states2])"
   ]
  },
  {
   "cell_type": "code",
   "execution_count": 22,
   "metadata": {},
   "outputs": [
    {
     "name": "stdout",
     "output_type": "stream",
     "text": [
      "__________________________________________________________________________________________________\n",
      "Layer (type)                    Output Shape         Param #     Connected to                     \n",
      "==================================================================================================\n",
      "input_1 (InputLayer)            (None, None)         0                                            \n",
      "__________________________________________________________________________________________________\n",
      "embedding_1 (Embedding)         (None, None, 300)    949800      input_1[0][0]                    \n",
      "__________________________________________________________________________________________________\n",
      "dropout_1 (Dropout)             (None, None, 300)    0           embedding_1[0][0]                \n",
      "__________________________________________________________________________________________________\n",
      "bidirectional_1 (Bidirectional) [(None, 600), (None, 1081800     dropout_1[0][0]                  \n",
      "__________________________________________________________________________________________________\n",
      "concatenate_1 (Concatenate)     (None, 600)          0           bidirectional_1[0][1]            \n",
      "                                                                 bidirectional_1[0][2]            \n",
      "==================================================================================================\n",
      "Total params: 2,031,600\n",
      "Trainable params: 1,081,800\n",
      "Non-trainable params: 949,800\n",
      "__________________________________________________________________________________________________\n"
     ]
    }
   ],
   "source": [
    "# Encoder model summary\n",
    "encoder_model.summary()"
   ]
  },
  {
   "cell_type": "code",
   "execution_count": 23,
   "metadata": {},
   "outputs": [
    {
     "data": {
      "image/png": "[encoded data removed]",
      "text/plain": [
       "<IPython.core.display.Image object>"
      ]
     },
     "execution_count": 23,
     "metadata": {
      "image/png": {
       "height": 258,
       "width": 374
      }
     },
     "output_type": "execute_result"
    }
   ],
   "source": [
    "plot_model(encoder_model, show_shapes=True, show_layer_names=True, to_file='encoder_model.png')\n",
    "Image(retina=True, filename='encoder_model.png')"
   ]
  },
  {
   "cell_type": "code",
   "execution_count": 24,
   "metadata": {},
   "outputs": [
    {
     "name": "stdout",
     "output_type": "stream",
     "text": [
      "__________________________________________________________________________________________________\n",
      "Layer (type)                    Output Shape         Param #     Connected to                     \n",
      "==================================================================================================\n",
      "input_2 (InputLayer)            (None, None)         0                                            \n",
      "__________________________________________________________________________________________________\n",
      "embedding_2 (Embedding)         (None, None, 300)    840000      input_2[0][0]                    \n",
      "__________________________________________________________________________________________________\n",
      "input_3 (InputLayer)            (None, 600)          0                                            \n",
      "__________________________________________________________________________________________________\n",
      "gru_2 (GRU)                     [(None, None, 600),  1621800     embedding_2[1][0]                \n",
      "                                                                 input_3[0][0]                    \n",
      "__________________________________________________________________________________________________\n",
      "dense_1 (Dense)                 (None, None, 2800)   1682800     gru_2[1][0]                      \n",
      "==================================================================================================\n",
      "Total params: 4,144,600\n",
      "Trainable params: 3,304,600\n",
      "Non-trainable params: 840,000\n",
      "__________________________________________________________________________________________________\n"
     ]
    }
   ],
   "source": [
    "# Decoder model summary\n",
    "decoder_model.summary()"
   ]
  },
  {
   "cell_type": "code",
   "execution_count": 25,
   "metadata": {},
   "outputs": [
    {
     "data": {
      "image/png": "[encoded data removed]",
      "text/plain": [
       "<IPython.core.display.Image object>"
      ]
     },
     "execution_count": 25,
     "metadata": {
      "image/png": {
       "height": 202,
       "width": 421
      }
     },
     "output_type": "execute_result"
    }
   ],
   "source": [
    "plot_model(decoder_model, show_shapes=True, show_layer_names=True, to_file='decoder_model.png')\n",
    "Image(retina=True, filename='decoder_model.png')"
   ]
  },
  {
   "cell_type": "code",
   "execution_count": 26,
   "metadata": {},
   "outputs": [],
   "source": [
    "def decode_sequence(input_seq):\n",
    "    # Encode the input as state vectors.\n",
    "    states_value = encoder_model.predict(input_seq)\n",
    "    # Generate empty target sequence of length 1.\n",
    "    target_seq = np.zeros((1,1))\n",
    "    # Populate the first character of \n",
    "    #target sequence with the start character.\n",
    "    target_seq[0, 0] = targ_lang.word_index['<start>']\n",
    "    # Sampling loop for a batch of sequences\n",
    "    # (to simplify, here we assume a batch of size 1).\n",
    "    stop_condition = False\n",
    "    decoded_sentence = ''\n",
    "    count = 0\n",
    "    while not stop_condition:\n",
    "        output_tokens, states = decoder_model.predict([target_seq] + [states_value])\n",
    "        # Sample a token\n",
    "        sampled_token_index = np.argmax(output_tokens[0, -1, :])\n",
    "        sampled_word = index_word_targ[sampled_token_index]\n",
    "        # Exit condition: either hit max length\n",
    "        # or find stop character.\n",
    "        if (sampled_word == '<end>' or count > max_length_targ):\n",
    "            stop_condition = True\n",
    "            count = 0\n",
    "        else:\n",
    "            decoded_sentence += ' '+ sampled_word\n",
    "            count += 1\n",
    "        # Update the target sequence (of length 1).\n",
    "        target_seq = np.zeros((1,1))\n",
    "        target_seq[0, 0] = sampled_token_index\n",
    "        # Update states\n",
    "        states_value = states\n",
    "    return decoded_sentence[1:]"
   ]
  },
  {
   "cell_type": "code",
   "execution_count": 28,
   "metadata": {},
   "outputs": [],
   "source": [
    "def decode_sequence_with_k_beam_search(input_seq, k = 2):\n",
    "    # Encode the input as state vectors.\n",
    "    states_value = encoder_model.predict(input_seq)\n",
    "    #print(\"input_seq\",input_seq.shape, states_value.shape)\n",
    "    # Generate empty target sequence of length 1.\n",
    "    target_seq = np.zeros((1,1))\n",
    "    # Populate the first character of \n",
    "    #target sequence with the start character.\n",
    "    target_seq[0, 0] = targ_lang.word_index['<start>']\n",
    "    # Final k predicted sentence\n",
    "    decoded_sentence = [\"\" for x in range(k)]\n",
    "    # Probabilities of each k candidates token in the sentence\n",
    "    prop = [[0 for x in range(k)] for y in range(max_length_targ)]\n",
    "    # Index of each k candidates token in the sentence \n",
    "    sampled_token_index = [[0 for x in range(k)] for y in range(max_length_targ)]\n",
    "    # Sampled word of each k candidates token in the sentence \n",
    "    sampled_word = [[\"\" for x in range(k)] for y in range(max_length_targ)]\n",
    "    # Sampling loop for a batch of sequences\n",
    "    # (to simplify, here we assume a batch of size 1).\n",
    "    for l in range(max_length_targ):\n",
    "        for i in range(k):\n",
    "            output_tokens, states = decoder_model.predict([target_seq] + [states_value])\n",
    "            #print(\"output_tokens\",output_tokens.shape, states.shape)\n",
    "            # Sort Probabilities for candidates, get the indices \n",
    "            sampled_token_index[l][i] =  np.argsort(output_tokens[0, -1, :])[-(i+1)]\n",
    "            # Sample words from index\n",
    "            sampled_word[l][i] = index_word_targ[sampled_token_index[l][i]]\n",
    "            # Mutiply Probabilities with previous setp\n",
    "            prop[l][i] = (max(prop[l-1][:]) if l>0 else 0) + np.log(output_tokens[0, -1, sampled_token_index[l][i]])\n",
    "\n",
    "        # Update the target sequence (of length 1).\n",
    "        target_seq = np.zeros((1,1))\n",
    "        # Sort candidates index by accumulated Probabilities\n",
    "        prop_indices = np.argsort(prop[l][:])[::-1]\n",
    "\n",
    "        # Stop sampling if we meet the '<end>' token which has the max Probability\n",
    "        if sampled_word[l][prop_indices[0]] == '<end>':\n",
    "            break\n",
    "\n",
    "        # Forming k predicted sentence\n",
    "        for idx in range(k):\n",
    "            decoded_sentence[idx] += (' ' if l > 0 else '') + sampled_word[l][prop_indices[idx]]\n",
    "            \n",
    "         # Update states for next step       \n",
    "        target_seq[0, 0] = sampled_token_index[l][prop_indices[0]]\n",
    "        states_value = states\n",
    "    return decoded_sentence"
   ]
  },
  {
   "cell_type": "code",
   "execution_count": 29,
   "metadata": {},
   "outputs": [],
   "source": [
    "# Function takes a tokenized sentence and returns the words\n",
    "def sequence_to_text(index_word, tensor):\n",
    "    # Looking up words in dictionary\n",
    "    words = ' '.join(index_word.get(t) for t in tensor if t != 0)\n",
    "    return(words)"
   ]
  },
  {
   "cell_type": "code",
   "execution_count": 30,
   "metadata": {},
   "outputs": [],
   "source": [
    "# Make predictions on the training dataset\n",
    "train_gen = generate_batch(input_tensor_train, target_tensor_train, batch_size = 1)"
   ]
  },
  {
   "cell_type": "code",
   "execution_count": 31,
   "metadata": {},
   "outputs": [
    {
     "name": "stdout",
     "output_type": "stream",
     "text": [
      "Input Source sentence: 我们 以 每 小时 一 哩 的 速度 行进 。\n",
      "Actual Target Translation: we are walking at the speed of one mile at hour .\n",
      "Predicted Target Translation: we are walking at the speed of one mile at hour .\n"
     ]
    }
   ],
   "source": [
    "# Pass a source sentence and then compare the predicted output to actual output\n",
    "(input_seq, actual_output), _ = next(train_gen)\n",
    "decoded_sentence = decode_sequence_with_k_beam_search(input_seq,5)\n",
    "print('Input Source sentence:', sequence_to_text(index_word_inp, input_seq[0].tolist()))\n",
    "print('Actual Target Translation:', sequence_to_text(index_word_targ, actual_output[0][1:].tolist()))\n",
    "print('Predicted Target Translation:', decoded_sentence[0])"
   ]
  },
  {
   "cell_type": "code",
   "execution_count": 32,
   "metadata": {},
   "outputs": [],
   "source": [
    "# Make predictions on the Test dataset\n",
    "test_gen = generate_batch(input_tensor_val, target_tensor_val, batch_size = 1)"
   ]
  },
  {
   "cell_type": "code",
   "execution_count": 33,
   "metadata": {},
   "outputs": [
    {
     "name": "stdout",
     "output_type": "stream",
     "text": [
      "Input Source sentence: 当 电力 公司 打 开球 上 的 数千 只 小 灯泡 时 ， 人们 口中 喊 着 嚯 ， 啊 。\n",
      "Actual Target Translation: they say ooh and aah when the electric company turns on the thousands of little lights in the ball .\n",
      "Predicted Target Translation: about a third slept on the streets , in cars , abandoned buildings or in another location not meant for human habitation , the report said .\n"
     ]
    }
   ],
   "source": [
    "# Pass a source sentence and then compare the predicted output to actual output\n",
    "(input_seq, actual_output), _ = next(test_gen)\n",
    "decoded_sentence = decode_sequence_with_k_beam_search(input_seq)\n",
    "print('Input Source sentence:', sequence_to_text(index_word_inp, input_seq[0].tolist()))\n",
    "print('Actual Target Translation:', sequence_to_text(index_word_targ, actual_output[0][1:].tolist()))\n",
    "print('Predicted Target Translation:', decoded_sentence[0])"
   ]
  },
  {
   "cell_type": "code",
   "execution_count": null,
   "metadata": {},
   "outputs": [],
   "source": []
  }
 ],
 "metadata": {
  "kernelspec": {
   "display_name": "Python 3",
   "language": "python",
   "name": "python3"
  },
  "language_info": {
   "codemirror_mode": {
    "name": "ipython",
    "version": 3
   },
   "file_extension": ".py",
   "mimetype": "text/x-python",
   "name": "python",
   "nbconvert_exporter": "python",
   "pygments_lexer": "ipython3",
   "version": "3.6.5"
  }
 },
 "nbformat": 4,
 "nbformat_minor": 2
}
